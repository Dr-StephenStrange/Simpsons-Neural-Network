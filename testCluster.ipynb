{
 "cells": [
  {
   "cell_type": "code",
   "execution_count": null,
   "metadata": {
    "collapsed": true
   },
   "outputs": [],
   "source": [
    "from pyspark import SparkContext, SparkConf\n",
    "import time"
   ]
  },
  {
   "cell_type": "code",
   "execution_count": null,
   "outputs": [],
   "source": [
    "conf = SparkConf().setAppName(\"SimpleSparkTest\")\n",
    "sc = SparkContext(conf=conf)\n",
    "\n",
    "numbers = list(range(1, 1001))\n",
    "\n",
    "rdd = sc.parallelize(numbers)\n",
    "\n",
    "start_time = time.time()\n",
    "\n",
    "total_sum = rdd.reduce(lambda x, y: x + y)\n",
    "\n",
    "end_time = time.time()\n",
    "\n",
    "total_time = end_time - start_time\n",
    "\n",
    "print(\"Total Sum:\", total_sum)\n",
    "print(\"Time taken to run:\", round(total_time,2) , \"seconds\")\n",
    "\n",
    "sc.stop()\n",
    "\n",
    "print('Test done')"
   ],
   "metadata": {
    "collapsed": false
   }
  }
 ],
 "metadata": {
  "kernelspec": {
   "display_name": "Python 3",
   "language": "python",
   "name": "python3"
  },
  "language_info": {
   "codemirror_mode": {
    "name": "ipython",
    "version": 2
   },
   "file_extension": ".py",
   "mimetype": "text/x-python",
   "name": "python",
   "nbconvert_exporter": "python",
   "pygments_lexer": "ipython2",
   "version": "2.7.6"
  }
 },
 "nbformat": 4,
 "nbformat_minor": 0
}
