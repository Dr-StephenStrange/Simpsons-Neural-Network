{
 "cells": [
  {
   "cell_type": "code",
   "execution_count": 15,
   "metadata": {
    "collapsed": true
   },
   "outputs": [],
   "source": [
    "import os\n",
    "import numpy as np\n",
    "import cv2\n",
    "import pandas as pd\n",
    "from tensorflow.keras.models import Sequential\n",
    "from tensorflow.keras.layers import Conv2D, MaxPooling2D, Flatten, Dense, Dropout, BatchNormalization, Activation\n",
    "from tensorflow.keras.preprocessing.image import ImageDataGenerator\n",
    "from tensorflow.keras.optimizers.schedules import ExponentialDecay\n",
    "from tensorflow.keras.optimizers import SGD\n",
    "from tensorflow.keras.regularizers import l2\n",
    "from tensorflow.keras.optimizers import Adam\n",
    "from tensorflow.keras.utils import to_categorical\n",
    "from sklearn.model_selection import train_test_split"
   ]
  },
  {
   "cell_type": "code",
   "execution_count": 16,
   "outputs": [],
   "source": [
    "dataset = \"Dataset/simpsons_dataset\"\n",
    "\n",
    "img_size = 64\n",
    "batch_size = 128\n",
    "epochs = 30\n",
    "input_shape = (img_size, img_size, 3) # 64 x 64 pixels with RGB\n",
    "\n",
    "map_characters = {0: 'abraham_grampa_simpson', 1: 'apu_nahasapeemapetilon', 2: 'bart_simpson',\n",
    "                  3: 'charles_montgomery_burns', 4: 'chief_wiggum', 5: 'comic_book_guy', 6: 'edna_krabappel',\n",
    "                  7: 'homer_simpson', 8: 'kent_brockman', 9: 'krusty_the_clown', 10: 'lisa_simpson',\n",
    "                  11: 'marge_simpson', 12: 'milhouse_van_houten', 13: 'moe_szyslak',\n",
    "                  14: 'ned_flanders', 15: 'nelson_muntz', 16: 'principal_skinner', 17: 'sideshow_bob'}\n",
    "\n",
    "num_classes = len(map_characters)"
   ],
   "metadata": {
    "collapsed": false
   }
  },
  {
   "cell_type": "code",
   "execution_count": 17,
   "outputs": [],
   "source": [
    "def load_data():\n",
    "    data = []\n",
    "    labels = []\n",
    "    for character_id, character_name in map_characters.items():\n",
    "        character_folder = os.path.join(dataset, character_name)\n",
    "        for img_file in os.listdir(character_folder):\n",
    "            img_path = os.path.join(character_folder, img_file)\n",
    "            img = cv2.imread(img_path)\n",
    "            img = cv2.resize(img, (img_size, img_size)).astype('float32') / 255\n",
    "            data.append(img)\n",
    "            labels.append(character_id)\n",
    "    data = np.array(data)\n",
    "    labels = np.array(labels)\n",
    "    return data, labels\n",
    "\n",
    "data, labels = load_data()"
   ],
   "metadata": {
    "collapsed": false
   }
  },
  {
   "cell_type": "code",
   "execution_count": 18,
   "outputs": [],
   "source": [
    "total_samples = len(data)\n",
    "iterations_per_epoch = int(round(total_samples / batch_size,0))\n",
    "decay_steps = int(iterations_per_epoch * epochs)\n",
    "initial_learning_rate = 1e-3\n",
    "\n",
    "lr_schedule = ExponentialDecay(\n",
    "    initial_learning_rate=initial_learning_rate,\n",
    "    decay_steps=decay_steps,\n",
    "    decay_rate=0.9)"
   ],
   "metadata": {
    "collapsed": false
   }
  },
  {
   "cell_type": "code",
   "execution_count": 19,
   "outputs": [],
   "source": [
    "datagen = ImageDataGenerator(\n",
    "    rotation_range=30,\n",
    "    width_shift_range=0.1,\n",
    "    height_shift_range=0.1,\n",
    "    shear_range=0.2,\n",
    "    zoom_range=0.2,\n",
    "    horizontal_flip=True,\n",
    "    fill_mode='nearest')"
   ],
   "metadata": {
    "collapsed": false
   }
  },
  {
   "cell_type": "code",
   "execution_count": 20,
   "outputs": [],
   "source": [
    "X_train, X_test, y_train, y_test = train_test_split(data, labels, test_size=0.2, random_state=42)\n",
    "\n",
    "y_train = to_categorical(y_train, len(map_characters))\n",
    "y_test = to_categorical(y_test, len(map_characters))"
   ],
   "metadata": {
    "collapsed": false
   }
  },
  {
   "cell_type": "code",
   "execution_count": 21,
   "outputs": [
    {
     "name": "stdout",
     "output_type": "stream",
     "text": [
      "Epoch 1/30\n",
      "118/118 [==============================] - 37s 301ms/step - loss: 4.5569 - accuracy: 0.1531\n",
      "Epoch 2/30\n",
      "118/118 [==============================] - 39s 325ms/step - loss: 2.8354 - accuracy: 0.2531\n",
      "Epoch 3/30\n",
      "118/118 [==============================] - 37s 313ms/step - loss: 2.3567 - accuracy: 0.3325\n",
      "Epoch 4/30\n",
      "118/118 [==============================] - 35s 298ms/step - loss: 2.0130 - accuracy: 0.4333\n",
      "Epoch 5/30\n",
      "118/118 [==============================] - 35s 297ms/step - loss: 1.7845 - accuracy: 0.5218\n",
      "Epoch 6/30\n",
      "118/118 [==============================] - 35s 293ms/step - loss: 1.5762 - accuracy: 0.5981\n",
      "Epoch 7/30\n",
      "118/118 [==============================] - 35s 294ms/step - loss: 1.4243 - accuracy: 0.6473\n",
      "Epoch 8/30\n",
      "118/118 [==============================] - 35s 298ms/step - loss: 1.3323 - accuracy: 0.6801\n",
      "Epoch 9/30\n",
      "118/118 [==============================] - 35s 295ms/step - loss: 1.2826 - accuracy: 0.7008\n",
      "Epoch 10/30\n",
      "118/118 [==============================] - 35s 297ms/step - loss: 1.2369 - accuracy: 0.7165\n",
      "Epoch 11/30\n",
      "118/118 [==============================] - 36s 299ms/step - loss: 1.1878 - accuracy: 0.7278\n",
      "Epoch 12/30\n",
      "118/118 [==============================] - 35s 297ms/step - loss: 1.1445 - accuracy: 0.7407\n",
      "Epoch 13/30\n",
      "118/118 [==============================] - 35s 293ms/step - loss: 1.1192 - accuracy: 0.7469\n",
      "Epoch 14/30\n",
      "118/118 [==============================] - 35s 295ms/step - loss: 1.0921 - accuracy: 0.7525\n",
      "Epoch 15/30\n",
      "118/118 [==============================] - 35s 294ms/step - loss: 1.0804 - accuracy: 0.7642\n",
      "Epoch 16/30\n",
      "118/118 [==============================] - 35s 293ms/step - loss: 1.0524 - accuracy: 0.7653\n",
      "Epoch 17/30\n",
      "118/118 [==============================] - 35s 295ms/step - loss: 1.0355 - accuracy: 0.7758\n",
      "Epoch 18/30\n",
      "118/118 [==============================] - 35s 295ms/step - loss: 1.0164 - accuracy: 0.7788\n",
      "Epoch 19/30\n",
      "118/118 [==============================] - 35s 294ms/step - loss: 0.9985 - accuracy: 0.7887\n",
      "Epoch 20/30\n",
      "118/118 [==============================] - 35s 294ms/step - loss: 0.9849 - accuracy: 0.7942\n",
      "Epoch 21/30\n",
      "118/118 [==============================] - 35s 294ms/step - loss: 0.9828 - accuracy: 0.7873\n",
      "Epoch 22/30\n",
      "118/118 [==============================] - 35s 297ms/step - loss: 0.9586 - accuracy: 0.7919\n",
      "Epoch 23/30\n",
      "118/118 [==============================] - 35s 292ms/step - loss: 0.9404 - accuracy: 0.7997\n",
      "Epoch 24/30\n",
      "118/118 [==============================] - 35s 295ms/step - loss: 0.9384 - accuracy: 0.7995\n",
      "Epoch 25/30\n",
      "118/118 [==============================] - 35s 293ms/step - loss: 0.9288 - accuracy: 0.8043\n",
      "Epoch 26/30\n",
      "118/118 [==============================] - 35s 294ms/step - loss: 0.9031 - accuracy: 0.8072\n",
      "Epoch 27/30\n",
      "118/118 [==============================] - 35s 294ms/step - loss: 0.8996 - accuracy: 0.8093\n",
      "Epoch 28/30\n",
      "118/118 [==============================] - 35s 294ms/step - loss: 0.8822 - accuracy: 0.8147\n",
      "Epoch 29/30\n",
      "118/118 [==============================] - 35s 292ms/step - loss: 0.8801 - accuracy: 0.8141\n",
      "Epoch 30/30\n",
      "118/118 [==============================] - 35s 294ms/step - loss: 0.8683 - accuracy: 0.8170\n",
      "119/119 [==============================] - 2s 19ms/step - loss: 0.7394 - accuracy: 0.8613\n",
      "Test accuracy: 86.13%\n"
     ]
    }
   ],
   "source": [
    "model = Sequential()\n",
    "model.add(Conv2D(32, (3, 3), activation='relu', input_shape=(64, 64, 3)))\n",
    "model.add(MaxPooling2D((2, 2)))\n",
    "model.add(BatchNormalization())\n",
    "model.add(Conv2D(64, (3, 3), activation='relu'))\n",
    "model.add(MaxPooling2D((2, 2)))\n",
    "model.add(BatchNormalization())\n",
    "model.add(Conv2D(128, (3, 3), activation='relu', kernel_regularizer=l2(0.01)))\n",
    "model.add(MaxPooling2D((2, 2)))\n",
    "model.add(Flatten())\n",
    "model.add(Dense(128, activation='relu', kernel_regularizer=l2(0.01)))\n",
    "model.add(Dropout(0.5))\n",
    "model.add(Dense(len(map_characters), activation='softmax'))\n",
    "\n",
    "# opt = SGD(learning_rate=lr_schedule, momentum=0.9, nesterov=True)\n",
    "opt = Adam(learning_rate=lr_schedule)\n",
    "\n",
    "model.compile(loss='categorical_crossentropy', optimizer=opt, metrics=['accuracy'])\n",
    "\n",
    "model.fit(datagen.flow(X_train, y_train, batch_size=batch_size), steps_per_epoch=len(X_train) / batch_size, epochs=epochs)\n",
    "\n",
    "test_loss, test_accuracy = model.evaluate(X_test, y_test)\n",
    "print(f'Test accuracy: {test_accuracy * 100:.2f}%')\n",
    "\n",
    "model.save(\"modelV9.h5\")"
   ],
   "metadata": {
    "collapsed": false
   }
  }
 ],
 "metadata": {
  "kernelspec": {
   "display_name": "Python 3",
   "language": "python",
   "name": "python3"
  },
  "language_info": {
   "codemirror_mode": {
    "name": "ipython",
    "version": 2
   },
   "file_extension": ".py",
   "mimetype": "text/x-python",
   "name": "python",
   "nbconvert_exporter": "python",
   "pygments_lexer": "ipython2",
   "version": "2.7.6"
  }
 },
 "nbformat": 4,
 "nbformat_minor": 0
}
